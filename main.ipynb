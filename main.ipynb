{
 "cells": [
  {
   "cell_type": "markdown",
   "id": "a6ba51ed",
   "metadata": {},
   "source": [
    "# Fake Banknotes Classification"
   ]
  },
  {
   "cell_type": "markdown",
   "id": "a71b1e9f",
   "metadata": {},
   "source": [
    "## References"
   ]
  },
  {
   "cell_type": "markdown",
   "id": "ceccef2e",
   "metadata": {},
   "source": [
    "1. BankNote Authentication UCI\n",
    "    - https://www.kaggle.com/datasets/shantanuss/banknote-authentication-uci"
   ]
  },
  {
   "cell_type": "markdown",
   "id": "1b8a449c",
   "metadata": {},
   "source": []
  }
 ],
 "metadata": {
  "language_info": {
   "name": "python"
  }
 },
 "nbformat": 4,
 "nbformat_minor": 5
}
