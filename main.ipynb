{
 "cells": [
  {
   "cell_type": "markdown",
   "id": "a6ba51ed",
   "metadata": {},
   "source": [
    "# Fake Banknotes Classification"
   ]
  },
  {
   "cell_type": "markdown",
   "id": "1bb8573a",
   "metadata": {},
   "source": [
    "## Import Libraries"
   ]
  },
  {
   "cell_type": "code",
   "execution_count": 2,
   "id": "3fdf08b6",
   "metadata": {},
   "outputs": [],
   "source": [
    "from matplotlib import pyplot as plt\n",
    "\n",
    "import pandas as pd\n",
    "import numpy as np\n",
    "import seaborn as sns"
   ]
  },
  {
   "cell_type": "markdown",
   "id": "515c34b1",
   "metadata": {},
   "source": [
    "## Load Dataset"
   ]
  },
  {
   "cell_type": "code",
   "execution_count": 3,
   "id": "1cf140e3",
   "metadata": {},
   "outputs": [],
   "source": [
    "df = pd.read_csv(\"BankNoteAuthentication.csv\")"
   ]
  },
  {
   "cell_type": "markdown",
   "id": "a71b1e9f",
   "metadata": {},
   "source": [
    "## References"
   ]
  },
  {
   "cell_type": "markdown",
   "id": "ceccef2e",
   "metadata": {},
   "source": [
    "1. BankNote Authentication UCI\n",
    "    - https://www.kaggle.com/datasets/shantanuss/banknote-authentication-uci"
   ]
  }
 ],
 "metadata": {
  "kernelspec": {
   "display_name": "Python 3",
   "language": "python",
   "name": "python3"
  },
  "language_info": {
   "codemirror_mode": {
    "name": "ipython",
    "version": 3
   },
   "file_extension": ".py",
   "mimetype": "text/x-python",
   "name": "python",
   "nbconvert_exporter": "python",
   "pygments_lexer": "ipython3",
   "version": "3.10.4"
  }
 },
 "nbformat": 4,
 "nbformat_minor": 5
}
