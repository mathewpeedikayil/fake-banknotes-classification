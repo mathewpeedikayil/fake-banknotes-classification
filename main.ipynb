{
 "cells": [
  {
   "cell_type": "markdown",
   "id": "a6ba51ed",
   "metadata": {},
   "source": [
    "# Fake Banknotes Classification"
   ]
  },
  {
   "cell_type": "markdown",
   "id": "a71b1e9f",
   "metadata": {},
   "source": []
  }
 ],
 "metadata": {
  "language_info": {
   "name": "python"
  }
 },
 "nbformat": 4,
 "nbformat_minor": 5
}
